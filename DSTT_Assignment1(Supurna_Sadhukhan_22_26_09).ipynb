{
  "cells": [
    {
      "cell_type": "markdown",
      "id": "d656a8e5",
      "metadata": {
        "id": "d656a8e5"
      },
      "source": [
        "Question 1:-\n",
        "\n",
        "Given an array A of N numbers (int), WAP which prints the multiplication of the\n",
        "elements of array A with the corresponding elements of the reverse of array A.\n",
        "If A = [1,2,3], then reverse of A will be [3,2,1] and the result should be [3,4,3].\n",
        "Input Format:\n",
        "The first line of the input contains a number N The second line of the input contains\n",
        "N numbers separated by a space. (after the last elements, there is no space)\n",
        "Output Format:\n",
        "Print the resultant array of elements separated by a space. (no space after the last\n",
        "element)"
      ]
    },
    {
      "cell_type": "code",
      "execution_count": null,
      "id": "aa736162",
      "metadata": {
        "id": "aa736162",
        "outputId": "9a28582f-3b39-488b-cd70-69a8836bb84c"
      },
      "outputs": [
        {
          "name": "stdout",
          "output_type": "stream",
          "text": [
            "A =  [1, 2, 3]\n",
            "B =  [3, 2, 1]\n",
            "3 4 3\n"
          ]
        }
      ],
      "source": [
        "A=[1,2,3]\n",
        "B=[]\n",
        "C=[]\n",
        "for i in range(len(A)-1,-1,-1):\n",
        "    B.append(A[i])\n",
        "print(\"A = \",A)\n",
        "print(\"B = \",B)\n",
        "\n",
        "for i in range (len(A)):\n",
        "    C.append(A[i]*B[i])\n",
        "\n",
        "for i in range (len(C)):\n",
        "    if(i!=len(C)-1):\n",
        "        print(C[i],end=' ')\n",
        "    else:\n",
        "        print(C[i])\n"
      ]
    },
    {
      "cell_type": "markdown",
      "id": "30253225",
      "metadata": {
        "id": "30253225"
      },
      "source": [
        "Question 2:-\n",
        "\n",
        "Given a list of numbers (integers), find second maximum and second minimum in\n",
        "this list.\n",
        "Input Format:\n",
        "The first line contains numbers separated by a space.\n",
        "Output Format:\n",
        "Print the second maximum and second minimum separated by a space"
      ]
    },
    {
      "cell_type": "code",
      "execution_count": null,
      "id": "7a1c63d9",
      "metadata": {
        "id": "7a1c63d9",
        "outputId": "755ff20d-cc46-48f9-9f18-09463d45d9bb"
      },
      "outputs": [
        {
          "name": "stdout",
          "output_type": "stream",
          "text": [
            "Enter the values1 4 7 3\n",
            "[1, 4, 7, 3]\n",
            "[1, 3, 4, 7]\n",
            "4   3\n"
          ]
        }
      ],
      "source": [
        "A=[int(x) for x in input(\"Enter the values\").split(\" \")]\n",
        "print(A)\n",
        "A=sorted(A)\n",
        "print(A)\n",
        "print(A[-2],\" \",A[1])"
      ]
    },
    {
      "cell_type": "markdown",
      "id": "80393a21",
      "metadata": {
        "id": "80393a21"
      },
      "source": [
        "Question 3:-\n",
        "\n",
        "Given a list A of numbers (integers), you have to print those numbers which are not\n",
        "multiples of 5.\n",
        "Input Format:\n",
        "The first line contains the numbers of list A separated by a space.\n",
        "Output Format:\n",
        "Print the numbers in a single line separated by a space which are not multiples of 5.\n",
        "Example:\n",
        "Input:\n",
        "1 2 3 4 5 6 5\n",
        "Output:\n",
        "1 2 3 4 6\n",
        "Explanation:\n",
        "Here the elements of A are 1,2,3,4,5,6,5 and since 5 is the multiple of 5, after removing\n",
        "them the list becomes 1,2,3,4,6."
      ]
    },
    {
      "cell_type": "code",
      "execution_count": null,
      "id": "9630e2e1",
      "metadata": {
        "id": "9630e2e1",
        "outputId": "f206e4f2-8f35-4521-deb5-d3b71402a3ac"
      },
      "outputs": [
        {
          "name": "stdout",
          "output_type": "stream",
          "text": [
            "Enter the digits 1 2 5 8 10\n",
            "1 2 8 "
          ]
        }
      ],
      "source": [
        "A=[int(x) for x in input(\"Enter the digits \").split()]\n",
        "for i in A:\n",
        "    if(i%5!=0):\n",
        "        print(i,end=' ')"
      ]
    },
    {
      "cell_type": "markdown",
      "id": "7fc0ab97",
      "metadata": {
        "id": "7fc0ab97"
      },
      "source": [
        "Question 4:-\n",
        "\n",
        "You are given a number A which contains only digits 0’s and 1’s. Your task is to\n",
        "make all digits same by just flipping one digit (i.e. 0 to 1 or 1 to 0 ) only. If it is\n",
        "possible to make all the digits same by just flipping one digit then print ’YES’ else\n",
        "print ’NO’.\n",
        "Input Format:\n",
        "The first line contains a number made up of 0’s and 1’s.\n",
        "Output Format:\n",
        "Print ’YES’ or ’NO’ accordingly without quotes.\n",
        "Example:\n",
        "Input:\n",
        "101\n",
        "Output:\n",
        "YES\n",
        "Explanation:\n",
        "If you flip the middle digit from 0 to 1 then all the digits will become same. Hence\n",
        "output is YES."
      ]
    },
    {
      "cell_type": "code",
      "execution_count": null,
      "id": "91f86f51",
      "metadata": {
        "id": "91f86f51",
        "outputId": "0edbb171-0495-484f-e961-4399433a7831"
      },
      "outputs": [
        {
          "name": "stdout",
          "output_type": "stream",
          "text": [
            "enter a binary number:-1011\n",
            "YES\n"
          ]
        }
      ],
      "source": [
        "zeroes,ones=0,0\n",
        "A=input(\"enter a binary number:-\")\n",
        "for i in range(len(A)):\n",
        "    if(A[i]=='0'):\n",
        "        zeroes+=1\n",
        "    else:\n",
        "        ones+=1\n",
        "if(zeroes==1 or ones==1):\n",
        "    print(\"YES\")\n",
        "else:\n",
        "    print(\"NO\")"
      ]
    },
    {
      "cell_type": "markdown",
      "id": "00f8203c",
      "metadata": {
        "id": "00f8203c"
      },
      "source": [
        "Question 5:-\n",
        "\n",
        "Given an integer number n, you have to print the factorial of this number.\n",
        "Input Format:\n",
        "A number n.\n",
        "Output Format:\n",
        "Print the factorial of n.\n",
        "Example:\n",
        "Input:\n",
        "4\n",
        "Output:\n",
        "24"
      ]
    },
    {
      "cell_type": "code",
      "execution_count": null,
      "id": "d0cb27c9",
      "metadata": {
        "id": "d0cb27c9",
        "outputId": "b0bbeedd-d846-460c-f2f7-7dbae574c73c"
      },
      "outputs": [
        {
          "name": "stdout",
          "output_type": "stream",
          "text": [
            "Enter a number:- 4\n",
            "24\n"
          ]
        }
      ],
      "source": [
        "def fact(num):\n",
        "    if(num>=1):\n",
        "        return(num*fact(num-1))\n",
        "    else:\n",
        "        return 1\n",
        "    \n",
        "number=int(input(\"Enter a number:- \"))\n",
        "print(fact(number))"
      ]
    },
    {
      "cell_type": "markdown",
      "id": "7044cde1",
      "metadata": {
        "id": "7044cde1"
      },
      "source": [
        "Question 6 :-\n",
        "\n",
        "Write a program, which will find all such numbers between m and n (both included)\n",
        "such that each digit of the number is an even number.\n",
        "Input Format:\n",
        "The first line contains value m and n separated by a comma.\n",
        "Output Format:\n",
        "The numbers obtained should be printed in a comma-separated sequence on a single\n",
        "line.\n",
        "Constraints:\n",
        "1000<=m<=9000\n",
        "1000<=n<=9000"
      ]
    },
    {
      "cell_type": "code",
      "execution_count": 1,
      "id": "29d5b7f3",
      "metadata": {
        "colab": {
          "base_uri": "https://localhost:8080/"
        },
        "id": "29d5b7f3",
        "outputId": "8a2f4574-3027-4c21-c58f-fbf79739e0f8"
      },
      "outputs": [
        {
          "output_type": "stream",
          "name": "stdout",
          "text": [
            "Range of the numbers:-1 20\n",
            "[2, 4, 6, 8, 20]\n"
          ]
        }
      ],
      "source": [
        "m,n=input(\"Range of the numbers:-\").split(\" \")\n",
        "A=[]\n",
        "def even_digit(num):\n",
        "    count=0\n",
        "    for i in str(num):\n",
        "        if (int(i)%2==0):\n",
        "            count+=1\n",
        "        if(count==len(str(num))):\n",
        "            return num  \n",
        "for i in range(int(m),int(n)+1):\n",
        "    if(even_digit(i)!=None):\n",
        "        A.append(even_digit(i))\n",
        "print(A)"
      ]
    },
    {
      "cell_type": "code",
      "execution_count": null,
      "id": "280dc2ee",
      "metadata": {
        "id": "280dc2ee"
      },
      "outputs": [],
      "source": []
    },
    {
      "cell_type": "code",
      "execution_count": null,
      "id": "bce9ad26",
      "metadata": {
        "id": "bce9ad26"
      },
      "outputs": [],
      "source": []
    }
  ],
  "metadata": {
    "kernelspec": {
      "display_name": "Python 3 (ipykernel)",
      "language": "python",
      "name": "python3"
    },
    "language_info": {
      "codemirror_mode": {
        "name": "ipython",
        "version": 3
      },
      "file_extension": ".py",
      "mimetype": "text/x-python",
      "name": "python",
      "nbconvert_exporter": "python",
      "pygments_lexer": "ipython3",
      "version": "3.9.12"
    },
    "colab": {
      "provenance": []
    }
  },
  "nbformat": 4,
  "nbformat_minor": 5
}