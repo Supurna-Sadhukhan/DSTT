{
 "cells": [
  {
   "cell_type": "code",
   "execution_count": 1,
   "id": "0718c3b5",
   "metadata": {},
   "outputs": [],
   "source": [
    "#Housing Data Analysis using Pandas"
   ]
  },
  {
   "cell_type": "code",
   "execution_count": 2,
   "id": "e58c1686",
   "metadata": {},
   "outputs": [],
   "source": [
    "#Importing important libraries\n",
    "import numpy as np\n",
    "import pandas as pd"
   ]
  },
  {
   "cell_type": "code",
   "execution_count": 3,
   "id": "8508b53f",
   "metadata": {},
   "outputs": [
    {
     "data": {
      "text/html": [
       "<div>\n",
       "<style scoped>\n",
       "    .dataframe tbody tr th:only-of-type {\n",
       "        vertical-align: middle;\n",
       "    }\n",
       "\n",
       "    .dataframe tbody tr th {\n",
       "        vertical-align: top;\n",
       "    }\n",
       "\n",
       "    .dataframe thead th {\n",
       "        text-align: right;\n",
       "    }\n",
       "</style>\n",
       "<table border=\"1\" class=\"dataframe\">\n",
       "  <thead>\n",
       "    <tr style=\"text-align: right;\">\n",
       "      <th></th>\n",
       "      <th>PID</th>\n",
       "      <th>STATE</th>\n",
       "      <th>PRICE</th>\n",
       "      <th>NUM_BEDROOMS</th>\n",
       "      <th>NUM_BATH</th>\n",
       "      <th>SQ_FT</th>\n",
       "    </tr>\n",
       "  </thead>\n",
       "  <tbody>\n",
       "    <tr>\n",
       "      <th>0</th>\n",
       "      <td>100001000.0</td>\n",
       "      <td>MP</td>\n",
       "      <td>321654</td>\n",
       "      <td>3</td>\n",
       "      <td>1</td>\n",
       "      <td>1000</td>\n",
       "    </tr>\n",
       "    <tr>\n",
       "      <th>1</th>\n",
       "      <td>100002000.0</td>\n",
       "      <td>MAHARASHTRA</td>\n",
       "      <td>21325</td>\n",
       "      <td>3</td>\n",
       "      <td>1.5</td>\n",
       "      <td>--</td>\n",
       "    </tr>\n",
       "    <tr>\n",
       "      <th>2</th>\n",
       "      <td>100003000.0</td>\n",
       "      <td>AP</td>\n",
       "      <td>2541654</td>\n",
       "      <td>NaN</td>\n",
       "      <td>1</td>\n",
       "      <td>850</td>\n",
       "    </tr>\n",
       "    <tr>\n",
       "      <th>3</th>\n",
       "      <td>100004000.0</td>\n",
       "      <td>TN</td>\n",
       "      <td>321321</td>\n",
       "      <td>1</td>\n",
       "      <td>NaN</td>\n",
       "      <td>700</td>\n",
       "    </tr>\n",
       "    <tr>\n",
       "      <th>4</th>\n",
       "      <td>NaN</td>\n",
       "      <td>TN</td>\n",
       "      <td>589465645</td>\n",
       "      <td>3</td>\n",
       "      <td>2</td>\n",
       "      <td>1600</td>\n",
       "    </tr>\n",
       "    <tr>\n",
       "      <th>5</th>\n",
       "      <td>100006000.0</td>\n",
       "      <td>TN</td>\n",
       "      <td>65465466</td>\n",
       "      <td>NaN</td>\n",
       "      <td>1</td>\n",
       "      <td>800</td>\n",
       "    </tr>\n",
       "  </tbody>\n",
       "</table>\n",
       "</div>"
      ],
      "text/plain": [
       "           PID        STATE      PRICE NUM_BEDROOMS NUM_BATH SQ_FT\n",
       "0  100001000.0           MP     321654            3        1  1000\n",
       "1  100002000.0  MAHARASHTRA      21325            3      1.5    --\n",
       "2  100003000.0           AP    2541654          NaN        1   850\n",
       "3  100004000.0           TN     321321            1      NaN   700\n",
       "4          NaN           TN  589465645            3        2  1600\n",
       "5  100006000.0           TN   65465466          NaN        1   800"
      ]
     },
     "execution_count": 3,
     "metadata": {},
     "output_type": "execute_result"
    }
   ],
   "source": [
    "# 1.Read the housingdata.csv file into pandas DataFrame and display first six rows of the DataFrame\n",
    "\n",
    "house_data=pd.read_csv('housingdata.csv')\n",
    "data_top=house_data.head(6)\n",
    "data_top"
   ]
  },
  {
   "cell_type": "code",
   "execution_count": 4,
   "id": "0a05b88f",
   "metadata": {},
   "outputs": [],
   "source": [
    "# 2. Display the column names and row index in separate cells."
   ]
  },
  {
   "cell_type": "code",
   "execution_count": 5,
   "id": "4577329e",
   "metadata": {},
   "outputs": [
    {
     "name": "stdout",
     "output_type": "stream",
     "text": [
      "Columns names are :-  ['PID', 'STATE', 'PRICE', 'NUM_BEDROOMS', 'NUM_BATH', 'SQ_FT']\n"
     ]
    }
   ],
   "source": [
    "# 2. a) Display the column names\n",
    "col_names=list(house_data.columns.values)\n",
    "print(\"Columns names are :- \",col_names)"
   ]
  },
  {
   "cell_type": "code",
   "execution_count": 6,
   "id": "f6ef33b0",
   "metadata": {},
   "outputs": [
    {
     "name": "stdout",
     "output_type": "stream",
     "text": [
      "0 1 2 3 4 5 6 7 8 "
     ]
    }
   ],
   "source": [
    "# 2. b) Row Index\n",
    "for i in house_data.index:\n",
    "    print(i,end=' ')"
   ]
  },
  {
   "cell_type": "code",
   "execution_count": 7,
   "id": "72718e25",
   "metadata": {},
   "outputs": [
    {
     "name": "stdout",
     "output_type": "stream",
     "text": [
      "No of states in the data set:- 9\n",
      "No of unique states in the data set:- 6\n"
     ]
    }
   ],
   "source": [
    "#3 a) How many numbers of “STATE” exist in the dataset. Hint: use shape\n",
    "   #b) How many unique states exist in the dataset\n",
    "\n",
    "# 3 a)\n",
    "print('No of states in the data set:-',house_data['STATE'].count())\n",
    "# 3 b)\n",
    "print('No of unique states in the data set:-',house_data['STATE'].nunique())"
   ]
  },
  {
   "cell_type": "code",
   "execution_count": 8,
   "id": "f6b3ebe8",
   "metadata": {},
   "outputs": [
    {
     "data": {
      "text/plain": [
       "PID             True\n",
       "NUM_BEDROOMS    True\n",
       "NUM_BATH        True\n",
       "SQ_FT           True\n",
       "dtype: bool"
      ]
     },
     "execution_count": 8,
     "metadata": {},
     "output_type": "execute_result"
    }
   ],
   "source": [
    "# 4. Retrieve the list of all NaN/Null/Empty cells in the form of Boolean list\n",
    "house_data1=house_data.replace(' ',np.nan)\n",
    "house_data1=house_data.replace('--',np.nan)\n",
    "house_data1.isna().any()[lambda x: x]"
   ]
  },
  {
   "cell_type": "code",
   "execution_count": 9,
   "id": "ee091518",
   "metadata": {},
   "outputs": [
    {
     "name": "stdout",
     "output_type": "stream",
     "text": [
      "The data without na,Na,N/A in Num_bedrooms\n"
     ]
    },
    {
     "data": {
      "text/html": [
       "<div>\n",
       "<style scoped>\n",
       "    .dataframe tbody tr th:only-of-type {\n",
       "        vertical-align: middle;\n",
       "    }\n",
       "\n",
       "    .dataframe tbody tr th {\n",
       "        vertical-align: top;\n",
       "    }\n",
       "\n",
       "    .dataframe thead th {\n",
       "        text-align: right;\n",
       "    }\n",
       "</style>\n",
       "<table border=\"1\" class=\"dataframe\">\n",
       "  <thead>\n",
       "    <tr style=\"text-align: right;\">\n",
       "      <th></th>\n",
       "      <th>PID</th>\n",
       "      <th>STATE</th>\n",
       "      <th>PRICE</th>\n",
       "      <th>NUM_BEDROOMS</th>\n",
       "      <th>NUM_BATH</th>\n",
       "      <th>SQ_FT</th>\n",
       "    </tr>\n",
       "  </thead>\n",
       "  <tbody>\n",
       "    <tr>\n",
       "      <th>0</th>\n",
       "      <td>100001000.0</td>\n",
       "      <td>MP</td>\n",
       "      <td>321654</td>\n",
       "      <td>3</td>\n",
       "      <td>1</td>\n",
       "      <td>1000</td>\n",
       "    </tr>\n",
       "    <tr>\n",
       "      <th>1</th>\n",
       "      <td>100002000.0</td>\n",
       "      <td>MAHARASHTRA</td>\n",
       "      <td>21325</td>\n",
       "      <td>3</td>\n",
       "      <td>1.5</td>\n",
       "      <td>--</td>\n",
       "    </tr>\n",
       "    <tr>\n",
       "      <th>3</th>\n",
       "      <td>100004000.0</td>\n",
       "      <td>TN</td>\n",
       "      <td>321321</td>\n",
       "      <td>1</td>\n",
       "      <td>NaN</td>\n",
       "      <td>700</td>\n",
       "    </tr>\n",
       "    <tr>\n",
       "      <th>4</th>\n",
       "      <td>NaN</td>\n",
       "      <td>TN</td>\n",
       "      <td>589465645</td>\n",
       "      <td>3</td>\n",
       "      <td>2</td>\n",
       "      <td>1600</td>\n",
       "    </tr>\n",
       "    <tr>\n",
       "      <th>6</th>\n",
       "      <td>100007000.0</td>\n",
       "      <td>ASSAM</td>\n",
       "      <td>3222321</td>\n",
       "      <td>2</td>\n",
       "      <td>HURLEY</td>\n",
       "      <td>950</td>\n",
       "    </tr>\n",
       "    <tr>\n",
       "      <th>7</th>\n",
       "      <td>100008000.0</td>\n",
       "      <td>HP</td>\n",
       "      <td>23131</td>\n",
       "      <td>1</td>\n",
       "      <td>1</td>\n",
       "      <td>NaN</td>\n",
       "    </tr>\n",
       "  </tbody>\n",
       "</table>\n",
       "</div>"
      ],
      "text/plain": [
       "           PID        STATE      PRICE NUM_BEDROOMS NUM_BATH SQ_FT\n",
       "0  100001000.0           MP     321654            3        1  1000\n",
       "1  100002000.0  MAHARASHTRA      21325            3      1.5    --\n",
       "3  100004000.0           TN     321321            1      NaN   700\n",
       "4          NaN           TN  589465645            3        2  1600\n",
       "6  100007000.0        ASSAM    3222321            2   HURLEY   950\n",
       "7  100008000.0           HP      23131            1        1   NaN"
      ]
     },
     "execution_count": 9,
     "metadata": {},
     "output_type": "execute_result"
    }
   ],
   "source": [
    "# 5. Drop all rows with N/A,NA,na values in Num_Bedrooms\n",
    "house_data=house_data.replace('na',np.nan)\n",
    "house_data.dropna(subset=['NUM_BEDROOMS'],inplace=True)\n",
    "print('The data without na,Na,N/A in Num_bedrooms')\n",
    "house_data"
   ]
  },
  {
   "cell_type": "code",
   "execution_count": 17,
   "id": "c1ee3901",
   "metadata": {},
   "outputs": [
    {
     "data": {
      "text/html": [
       "<div>\n",
       "<style scoped>\n",
       "    .dataframe tbody tr th:only-of-type {\n",
       "        vertical-align: middle;\n",
       "    }\n",
       "\n",
       "    .dataframe tbody tr th {\n",
       "        vertical-align: top;\n",
       "    }\n",
       "\n",
       "    .dataframe thead th {\n",
       "        text-align: right;\n",
       "    }\n",
       "</style>\n",
       "<table border=\"1\" class=\"dataframe\">\n",
       "  <thead>\n",
       "    <tr style=\"text-align: right;\">\n",
       "      <th></th>\n",
       "      <th>PID</th>\n",
       "      <th>STATE</th>\n",
       "      <th>PRICE</th>\n",
       "      <th>NUM_BEDROOMS</th>\n",
       "      <th>NUM_BATH</th>\n",
       "      <th>SQ_FT</th>\n",
       "      <th>NUM_STORE</th>\n",
       "    </tr>\n",
       "  </thead>\n",
       "  <tbody>\n",
       "    <tr>\n",
       "      <th>0</th>\n",
       "      <td>100001000.0</td>\n",
       "      <td>MP</td>\n",
       "      <td>321654</td>\n",
       "      <td>3</td>\n",
       "      <td>1</td>\n",
       "      <td>1000.0</td>\n",
       "      <td>1</td>\n",
       "    </tr>\n",
       "    <tr>\n",
       "      <th>1</th>\n",
       "      <td>100002000.0</td>\n",
       "      <td>MAHARASHTRA</td>\n",
       "      <td>21325</td>\n",
       "      <td>3</td>\n",
       "      <td>1.5</td>\n",
       "      <td>1062.5</td>\n",
       "      <td>1</td>\n",
       "    </tr>\n",
       "    <tr>\n",
       "      <th>3</th>\n",
       "      <td>100004000.0</td>\n",
       "      <td>TN</td>\n",
       "      <td>321321</td>\n",
       "      <td>1</td>\n",
       "      <td>1.5</td>\n",
       "      <td>700.0</td>\n",
       "      <td>1</td>\n",
       "    </tr>\n",
       "    <tr>\n",
       "      <th>4</th>\n",
       "      <td>NaN</td>\n",
       "      <td>TN</td>\n",
       "      <td>589465645</td>\n",
       "      <td>3</td>\n",
       "      <td>2</td>\n",
       "      <td>1600.0</td>\n",
       "      <td>1</td>\n",
       "    </tr>\n",
       "    <tr>\n",
       "      <th>6</th>\n",
       "      <td>100007000.0</td>\n",
       "      <td>ASSAM</td>\n",
       "      <td>3222321</td>\n",
       "      <td>2</td>\n",
       "      <td>NaN</td>\n",
       "      <td>950.0</td>\n",
       "      <td>1</td>\n",
       "    </tr>\n",
       "    <tr>\n",
       "      <th>7</th>\n",
       "      <td>100008000.0</td>\n",
       "      <td>HP</td>\n",
       "      <td>23131</td>\n",
       "      <td>1</td>\n",
       "      <td>1</td>\n",
       "      <td>1062.5</td>\n",
       "      <td>1</td>\n",
       "    </tr>\n",
       "  </tbody>\n",
       "</table>\n",
       "</div>"
      ],
      "text/plain": [
       "           PID        STATE      PRICE NUM_BEDROOMS NUM_BATH   SQ_FT  \\\n",
       "0  100001000.0           MP     321654            3        1  1000.0   \n",
       "1  100002000.0  MAHARASHTRA      21325            3      1.5  1062.5   \n",
       "3  100004000.0           TN     321321            1      1.5   700.0   \n",
       "4          NaN           TN  589465645            3        2  1600.0   \n",
       "6  100007000.0        ASSAM    3222321            2      NaN   950.0   \n",
       "7  100008000.0           HP      23131            1        1  1062.5   \n",
       "\n",
       "   NUM_STORE  \n",
       "0          1  \n",
       "1          1  \n",
       "3          1  \n",
       "4          1  \n",
       "6          1  \n",
       "7          1  "
      ]
     },
     "execution_count": 17,
     "metadata": {},
     "output_type": "execute_result"
    }
   ],
   "source": [
    "# 6. Replace the NaN and String entries in Num_Bath with previous entry\n",
    "house_data.replace('HURLEY','NaN',inplace=True)\n",
    "house_data.loc[:,'NUM_BATH'] = house_data.loc[:,'NUM_BATH'].ffill()\n",
    "house_data"
   ]
  },
  {
   "cell_type": "code",
   "execution_count": 11,
   "id": "7e1cbca4",
   "metadata": {},
   "outputs": [
    {
     "data": {
      "text/html": [
       "<div>\n",
       "<style scoped>\n",
       "    .dataframe tbody tr th:only-of-type {\n",
       "        vertical-align: middle;\n",
       "    }\n",
       "\n",
       "    .dataframe tbody tr th {\n",
       "        vertical-align: top;\n",
       "    }\n",
       "\n",
       "    .dataframe thead th {\n",
       "        text-align: right;\n",
       "    }\n",
       "</style>\n",
       "<table border=\"1\" class=\"dataframe\">\n",
       "  <thead>\n",
       "    <tr style=\"text-align: right;\">\n",
       "      <th></th>\n",
       "      <th>PID</th>\n",
       "      <th>STATE</th>\n",
       "      <th>PRICE</th>\n",
       "      <th>NUM_BEDROOMS</th>\n",
       "      <th>NUM_BATH</th>\n",
       "      <th>SQ_FT</th>\n",
       "    </tr>\n",
       "  </thead>\n",
       "  <tbody>\n",
       "    <tr>\n",
       "      <th>0</th>\n",
       "      <td>100001000.0</td>\n",
       "      <td>MP</td>\n",
       "      <td>321654</td>\n",
       "      <td>3</td>\n",
       "      <td>1</td>\n",
       "      <td>1000.0</td>\n",
       "    </tr>\n",
       "    <tr>\n",
       "      <th>1</th>\n",
       "      <td>100002000.0</td>\n",
       "      <td>MAHARASHTRA</td>\n",
       "      <td>21325</td>\n",
       "      <td>3</td>\n",
       "      <td>1.5</td>\n",
       "      <td>1062.5</td>\n",
       "    </tr>\n",
       "    <tr>\n",
       "      <th>3</th>\n",
       "      <td>100004000.0</td>\n",
       "      <td>TN</td>\n",
       "      <td>321321</td>\n",
       "      <td>1</td>\n",
       "      <td>1.5</td>\n",
       "      <td>700.0</td>\n",
       "    </tr>\n",
       "    <tr>\n",
       "      <th>4</th>\n",
       "      <td>NaN</td>\n",
       "      <td>TN</td>\n",
       "      <td>589465645</td>\n",
       "      <td>3</td>\n",
       "      <td>2</td>\n",
       "      <td>1600.0</td>\n",
       "    </tr>\n",
       "    <tr>\n",
       "      <th>6</th>\n",
       "      <td>100007000.0</td>\n",
       "      <td>ASSAM</td>\n",
       "      <td>3222321</td>\n",
       "      <td>2</td>\n",
       "      <td>NaN</td>\n",
       "      <td>950.0</td>\n",
       "    </tr>\n",
       "    <tr>\n",
       "      <th>7</th>\n",
       "      <td>100008000.0</td>\n",
       "      <td>HP</td>\n",
       "      <td>23131</td>\n",
       "      <td>1</td>\n",
       "      <td>1</td>\n",
       "      <td>1062.5</td>\n",
       "    </tr>\n",
       "  </tbody>\n",
       "</table>\n",
       "</div>"
      ],
      "text/plain": [
       "           PID        STATE      PRICE NUM_BEDROOMS NUM_BATH   SQ_FT\n",
       "0  100001000.0           MP     321654            3        1  1000.0\n",
       "1  100002000.0  MAHARASHTRA      21325            3      1.5  1062.5\n",
       "3  100004000.0           TN     321321            1      1.5   700.0\n",
       "4          NaN           TN  589465645            3        2  1600.0\n",
       "6  100007000.0        ASSAM    3222321            2      NaN   950.0\n",
       "7  100008000.0           HP      23131            1        1  1062.5"
      ]
     },
     "execution_count": 11,
     "metadata": {},
     "output_type": "execute_result"
    }
   ],
   "source": [
    "# 7. Replace the empty values in “SQ_FT” with the mean of the all entries.\n",
    "house_data.replace('--','NaN',inplace=True)\n",
    "house_data['SQ_FT'] = house_data['SQ_FT'].astype(float)\n",
    "mean_value=house_data['SQ_FT'].mean()\n",
    "house_data['SQ_FT'].fillna(value=mean_value,inplace=True)\n",
    "house_data"
   ]
  },
  {
   "cell_type": "code",
   "execution_count": 12,
   "id": "1c3bd54f",
   "metadata": {},
   "outputs": [
    {
     "name": "stdout",
     "output_type": "stream",
     "text": [
      "Sum of SQ_FT for all entries :-  6375.0\n"
     ]
    }
   ],
   "source": [
    "# 8. What is the sum of SQ_FT of all entries in the dataset.\n",
    "house_data['SQ_FT'] = house_data['SQ_FT'].astype(float)\n",
    "print('Sum of SQ_FT for all entries :- ',house_data['SQ_FT'].sum())"
   ]
  },
  {
   "cell_type": "code",
   "execution_count": 18,
   "id": "7df0ff03",
   "metadata": {},
   "outputs": [
    {
     "data": {
      "text/html": [
       "<div>\n",
       "<style scoped>\n",
       "    .dataframe tbody tr th:only-of-type {\n",
       "        vertical-align: middle;\n",
       "    }\n",
       "\n",
       "    .dataframe tbody tr th {\n",
       "        vertical-align: top;\n",
       "    }\n",
       "\n",
       "    .dataframe thead th {\n",
       "        text-align: right;\n",
       "    }\n",
       "</style>\n",
       "<table border=\"1\" class=\"dataframe\">\n",
       "  <thead>\n",
       "    <tr style=\"text-align: right;\">\n",
       "      <th></th>\n",
       "      <th>PID</th>\n",
       "      <th>STATE</th>\n",
       "      <th>PRICE</th>\n",
       "      <th>NUM_BEDROOMS</th>\n",
       "      <th>NUM_BATH</th>\n",
       "      <th>SQ_FT</th>\n",
       "      <th>NUM_STORE</th>\n",
       "    </tr>\n",
       "  </thead>\n",
       "  <tbody>\n",
       "    <tr>\n",
       "      <th>0</th>\n",
       "      <td>100001000.0</td>\n",
       "      <td>MP</td>\n",
       "      <td>321654</td>\n",
       "      <td>3</td>\n",
       "      <td>1</td>\n",
       "      <td>1000.0</td>\n",
       "      <td>1</td>\n",
       "    </tr>\n",
       "    <tr>\n",
       "      <th>1</th>\n",
       "      <td>100002000.0</td>\n",
       "      <td>MAHARASHTRA</td>\n",
       "      <td>21325</td>\n",
       "      <td>3</td>\n",
       "      <td>1.5</td>\n",
       "      <td>1062.5</td>\n",
       "      <td>1</td>\n",
       "    </tr>\n",
       "    <tr>\n",
       "      <th>3</th>\n",
       "      <td>100004000.0</td>\n",
       "      <td>TN</td>\n",
       "      <td>321321</td>\n",
       "      <td>1</td>\n",
       "      <td>1.5</td>\n",
       "      <td>700.0</td>\n",
       "      <td>1</td>\n",
       "    </tr>\n",
       "    <tr>\n",
       "      <th>4</th>\n",
       "      <td>NaN</td>\n",
       "      <td>TN</td>\n",
       "      <td>589465645</td>\n",
       "      <td>3</td>\n",
       "      <td>2</td>\n",
       "      <td>1600.0</td>\n",
       "      <td>1</td>\n",
       "    </tr>\n",
       "    <tr>\n",
       "      <th>6</th>\n",
       "      <td>100007000.0</td>\n",
       "      <td>ASSAM</td>\n",
       "      <td>3222321</td>\n",
       "      <td>2</td>\n",
       "      <td>NaN</td>\n",
       "      <td>950.0</td>\n",
       "      <td>1</td>\n",
       "    </tr>\n",
       "    <tr>\n",
       "      <th>7</th>\n",
       "      <td>100008000.0</td>\n",
       "      <td>HP</td>\n",
       "      <td>23131</td>\n",
       "      <td>1</td>\n",
       "      <td>1</td>\n",
       "      <td>1062.5</td>\n",
       "      <td>1</td>\n",
       "    </tr>\n",
       "  </tbody>\n",
       "</table>\n",
       "</div>"
      ],
      "text/plain": [
       "           PID        STATE      PRICE NUM_BEDROOMS NUM_BATH   SQ_FT  \\\n",
       "0  100001000.0           MP     321654            3        1  1000.0   \n",
       "1  100002000.0  MAHARASHTRA      21325            3      1.5  1062.5   \n",
       "3  100004000.0           TN     321321            1      1.5   700.0   \n",
       "4          NaN           TN  589465645            3        2  1600.0   \n",
       "6  100007000.0        ASSAM    3222321            2      NaN   950.0   \n",
       "7  100008000.0           HP      23131            1        1  1062.5   \n",
       "\n",
       "   NUM_STORE  \n",
       "0          1  \n",
       "1          1  \n",
       "3          1  \n",
       "4          1  \n",
       "6          1  \n",
       "7          1  "
      ]
     },
     "execution_count": 18,
     "metadata": {},
     "output_type": "execute_result"
    }
   ],
   "source": [
    "# 9. Add a new column “NUM_STORE” and with all the values as 1 for all rows\n",
    "house_data=house_data.assign(NUM_STORE=1)\n",
    "house_data"
   ]
  },
  {
   "cell_type": "code",
   "execution_count": 14,
   "id": "f849fa79",
   "metadata": {},
   "outputs": [
    {
     "data": {
      "text/html": [
       "<div>\n",
       "<style scoped>\n",
       "    .dataframe tbody tr th:only-of-type {\n",
       "        vertical-align: middle;\n",
       "    }\n",
       "\n",
       "    .dataframe tbody tr th {\n",
       "        vertical-align: top;\n",
       "    }\n",
       "\n",
       "    .dataframe thead th {\n",
       "        text-align: right;\n",
       "    }\n",
       "</style>\n",
       "<table border=\"1\" class=\"dataframe\">\n",
       "  <thead>\n",
       "    <tr style=\"text-align: right;\">\n",
       "      <th></th>\n",
       "      <th>PID</th>\n",
       "      <th>STATE</th>\n",
       "      <th>PRICE</th>\n",
       "      <th>NUM_BEDROOMS</th>\n",
       "      <th>NUM_BATH</th>\n",
       "      <th>SQ_FT</th>\n",
       "      <th>NUM_STORE</th>\n",
       "    </tr>\n",
       "  </thead>\n",
       "  <tbody>\n",
       "    <tr>\n",
       "      <th>3</th>\n",
       "      <td>100004000.0</td>\n",
       "      <td>TN</td>\n",
       "      <td>321321</td>\n",
       "      <td>1</td>\n",
       "      <td>NaN</td>\n",
       "      <td>700.0</td>\n",
       "      <td>1</td>\n",
       "    </tr>\n",
       "    <tr>\n",
       "      <th>4</th>\n",
       "      <td>NaN</td>\n",
       "      <td>TN</td>\n",
       "      <td>589465645</td>\n",
       "      <td>3</td>\n",
       "      <td>2</td>\n",
       "      <td>1600.0</td>\n",
       "      <td>1</td>\n",
       "    </tr>\n",
       "  </tbody>\n",
       "</table>\n",
       "</div>"
      ],
      "text/plain": [
       "           PID STATE      PRICE NUM_BEDROOMS NUM_BATH   SQ_FT  NUM_STORE\n",
       "3  100004000.0    TN     321321            1      NaN   700.0          1\n",
       "4          NaN    TN  589465645            3        2  1600.0          1"
      ]
     },
     "execution_count": 14,
     "metadata": {},
     "output_type": "execute_result"
    }
   ],
   "source": [
    "# 10. Create a DataFrame containing all entries of TN state only\n",
    "house_data1=house_data[house_data['STATE'] =='TN']\n",
    "house_data1"
   ]
  },
  {
   "cell_type": "code",
   "execution_count": 17,
   "id": "eb6bb93e",
   "metadata": {},
   "outputs": [
    {
     "data": {
      "text/html": [
       "<div>\n",
       "<style scoped>\n",
       "    .dataframe tbody tr th:only-of-type {\n",
       "        vertical-align: middle;\n",
       "    }\n",
       "\n",
       "    .dataframe tbody tr th {\n",
       "        vertical-align: top;\n",
       "    }\n",
       "\n",
       "    .dataframe thead th {\n",
       "        text-align: right;\n",
       "    }\n",
       "</style>\n",
       "<table border=\"1\" class=\"dataframe\">\n",
       "  <thead>\n",
       "    <tr style=\"text-align: right;\">\n",
       "      <th></th>\n",
       "      <th>PID</th>\n",
       "      <th>STATE</th>\n",
       "      <th>PRICE</th>\n",
       "      <th>NUM_BEDROOMS</th>\n",
       "      <th>NUM_BATH</th>\n",
       "      <th>SQ_FT</th>\n",
       "      <th>NUM_STORE</th>\n",
       "    </tr>\n",
       "  </thead>\n",
       "  <tbody>\n",
       "    <tr>\n",
       "      <th>1</th>\n",
       "      <td>100002000.0</td>\n",
       "      <td>MAHARASHTRA</td>\n",
       "      <td>21325</td>\n",
       "      <td>3</td>\n",
       "      <td>1.5</td>\n",
       "      <td>1062.5</td>\n",
       "      <td>1</td>\n",
       "    </tr>\n",
       "    <tr>\n",
       "      <th>4</th>\n",
       "      <td>NaN</td>\n",
       "      <td>TN</td>\n",
       "      <td>589465645</td>\n",
       "      <td>3</td>\n",
       "      <td>2</td>\n",
       "      <td>1600.0</td>\n",
       "      <td>1</td>\n",
       "    </tr>\n",
       "    <tr>\n",
       "      <th>7</th>\n",
       "      <td>100008000.0</td>\n",
       "      <td>HP</td>\n",
       "      <td>23131</td>\n",
       "      <td>1</td>\n",
       "      <td>1</td>\n",
       "      <td>1062.5</td>\n",
       "      <td>1</td>\n",
       "    </tr>\n",
       "  </tbody>\n",
       "</table>\n",
       "</div>"
      ],
      "text/plain": [
       "           PID        STATE      PRICE NUM_BEDROOMS NUM_BATH   SQ_FT  \\\n",
       "1  100002000.0  MAHARASHTRA      21325            3      1.5  1062.5   \n",
       "4          NaN           TN  589465645            3        2  1600.0   \n",
       "7  100008000.0           HP      23131            1        1  1062.5   \n",
       "\n",
       "   NUM_STORE  \n",
       "1          1  \n",
       "4          1  \n",
       "7          1  "
      ]
     },
     "execution_count": 17,
     "metadata": {},
     "output_type": "execute_result"
    }
   ],
   "source": [
    "# 14. Create a DataFrame having SQ_FT area greater than 1000 and display the DataFrame\n",
    "#house_data= house_data.replace('--',0.0)\n",
    "house_data['SQ_FT'] = house_data['SQ_FT'].astype(float)\n",
    "house_data2=house_data[house_data['SQ_FT'] > 1000]\n",
    "house_data2"
   ]
  },
  {
   "cell_type": "code",
   "execution_count": 20,
   "id": "73ac678c",
   "metadata": {},
   "outputs": [
    {
     "name": "stdout",
     "output_type": "stream",
     "text": [
      "           PID        STATE   PRICE\n",
      "0  100001000.0           MP  321654\n",
      "1  100002000.0  MAHARASHTRA   21325\n",
      "3  100004000.0           TN  321321\n"
     ]
    }
   ],
   "source": [
    "# 15. Create a DataFrame having only first Three columns and First Three rows\n",
    "house_data3=house_data.iloc[0:3,0:3]\n",
    "print(house_data3)"
   ]
  },
  {
   "cell_type": "code",
   "execution_count": 20,
   "id": "a7c01a7f",
   "metadata": {},
   "outputs": [
    {
     "data": {
      "text/plain": [
       "4    TN\n",
       "Name: STATE, dtype: object"
      ]
     },
     "execution_count": 20,
     "metadata": {},
     "output_type": "execute_result"
    }
   ],
   "source": [
    "# 16. Display the state having highest average price per square foot of housing area. Hint: Average of (TotalPrice/Sq_Ft)\n",
    "house_data['AVG_PRICE_PER_SQFT'] = house_data['PRICE']/house_data['SQ_FT']\n",
    "house_data.loc[house_data['AVG_PRICE_PER_SQFT'] == house_data['AVG_PRICE_PER_SQFT'].max()]['STATE']"
   ]
  },
  {
   "cell_type": "code",
   "execution_count": null,
   "id": "08ea4541",
   "metadata": {},
   "outputs": [],
   "source": []
  }
 ],
 "metadata": {
  "kernelspec": {
   "display_name": "Python 3 (ipykernel)",
   "language": "python",
   "name": "python3"
  },
  "language_info": {
   "codemirror_mode": {
    "name": "ipython",
    "version": 3
   },
   "file_extension": ".py",
   "mimetype": "text/x-python",
   "name": "python",
   "nbconvert_exporter": "python",
   "pygments_lexer": "ipython3",
   "version": "3.9.12"
  }
 },
 "nbformat": 4,
 "nbformat_minor": 5
}
